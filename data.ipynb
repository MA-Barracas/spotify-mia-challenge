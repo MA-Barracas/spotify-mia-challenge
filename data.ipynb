{
 "cells": [
  {
   "cell_type": "markdown",
   "metadata": {},
   "source": [
    "<!-- ![logo](L.png) -->"
   ]
  },
  {
   "cell_type": "markdown",
   "metadata": {},
   "source": [
    "![image](L.png)"
   ]
  },
  {
   "cell_type": "markdown",
   "metadata": {},
   "source": [
    "https://raw.githubusercontent.com/fatihilhan42/Spotify-Songs-Recommendations-System_with_python/refs/heads/main/genres_v2.csv"
   ]
  },
  {
   "cell_type": "code",
   "execution_count": 1,
   "metadata": {},
   "outputs": [],
   "source": [
    "# import pandas as pd\n",
    "# import re\n",
    "\n",
    "# # Lista de URLs para los datasets\n",
    "# base_url = \"https://raw.githubusercontent.com/fortyTwo102/The-Spotify-Hit-Predictor-Dataset/refs/heads/master/\"\n",
    "# files = [\n",
    "#     \"dataset-of-00s.csv\",\n",
    "#     \"dataset-of-10s.csv\",\n",
    "#     \"dataset-of-60s.csv\",\n",
    "#     \"dataset-of-70s.csv\",\n",
    "#     \"dataset-of-80s.csv\",\n",
    "#     \"dataset-of-90s.csv\"\n",
    "# ]\n",
    "\n",
    "# # Función para extraer la década del nombre del archivo\n",
    "# def extract_decade(filename):\n",
    "#     match = re.search(r'(\\d{2}s)', filename)  # Extrae el patrón como '00s', '10s', etc.\n",
    "#     return match.group(1) if match else None\n",
    "\n",
    "# # Descargar, agregar la columna 'decade' y concatenar los archivos CSV\n",
    "# dataframes = []\n",
    "# for file in files:\n",
    "#     df = pd.read_csv(base_url + file)\n",
    "#     df['decade'] = extract_decade(file)  # Añade la columna 'decade'\n",
    "#     dataframes.append(df)\n",
    "\n",
    "# # Concatenar todos los DataFrames en uno solo\n",
    "# combined_df = pd.concat(dataframes, ignore_index=True)\n",
    "\n",
    "# # Mostrar las primeras filas del DataFrame combinado\n",
    "# print(combined_df.head())\n",
    "\n",
    "# # Opcional: guardar el dataframe en un archivo local\n",
    "# # combined_df.to_csv(\"combined_spotify_dataset_with_decade.csv\", index=False)\n"
   ]
  },
  {
   "cell_type": "code",
   "execution_count": 2,
   "metadata": {},
   "outputs": [
    {
     "name": "stderr",
     "output_type": "stream",
     "text": [
      "C:\\Users\\Ort\\AppData\\Local\\Temp\\ipykernel_36728\\1092132926.py:2: DtypeWarning: Columns (19) have mixed types. Specify dtype option on import or set low_memory=False.\n",
      "  df = pd.read_csv(\"https://raw.githubusercontent.com/fatihilhan42/Spotify-Songs-Recommendations-System_with_python/refs/heads/main/genres_v2.csv\")\n"
     ]
    }
   ],
   "source": [
    "import pandas as pd\n",
    "df = pd.read_csv(\"https://raw.githubusercontent.com/fatihilhan42/Spotify-Songs-Recommendations-System_with_python/refs/heads/main/genres_v2.csv\")"
   ]
  },
  {
   "cell_type": "code",
   "execution_count": 5,
   "metadata": {},
   "outputs": [
    {
     "data": {
      "text/html": [
       "<div>\n",
       "<style scoped>\n",
       "    .dataframe tbody tr th:only-of-type {\n",
       "        vertical-align: middle;\n",
       "    }\n",
       "\n",
       "    .dataframe tbody tr th {\n",
       "        vertical-align: top;\n",
       "    }\n",
       "\n",
       "    .dataframe thead th {\n",
       "        text-align: right;\n",
       "    }\n",
       "</style>\n",
       "<table border=\"1\" class=\"dataframe\">\n",
       "  <thead>\n",
       "    <tr style=\"text-align: right;\">\n",
       "      <th></th>\n",
       "      <th>danceability</th>\n",
       "      <th>energy</th>\n",
       "      <th>key</th>\n",
       "      <th>loudness</th>\n",
       "      <th>mode</th>\n",
       "      <th>speechiness</th>\n",
       "      <th>acousticness</th>\n",
       "      <th>instrumentalness</th>\n",
       "      <th>liveness</th>\n",
       "      <th>valence</th>\n",
       "      <th>...</th>\n",
       "      <th>id</th>\n",
       "      <th>uri</th>\n",
       "      <th>track_href</th>\n",
       "      <th>analysis_url</th>\n",
       "      <th>duration_ms</th>\n",
       "      <th>time_signature</th>\n",
       "      <th>genre</th>\n",
       "      <th>song_name</th>\n",
       "      <th>Unnamed: 0</th>\n",
       "      <th>title</th>\n",
       "    </tr>\n",
       "  </thead>\n",
       "  <tbody>\n",
       "    <tr>\n",
       "      <th>0</th>\n",
       "      <td>0.831</td>\n",
       "      <td>0.814</td>\n",
       "      <td>2</td>\n",
       "      <td>-7.364</td>\n",
       "      <td>1</td>\n",
       "      <td>0.4200</td>\n",
       "      <td>0.0598</td>\n",
       "      <td>0.013400</td>\n",
       "      <td>0.0556</td>\n",
       "      <td>0.3890</td>\n",
       "      <td>...</td>\n",
       "      <td>2Vc6NJ9PW9gD9q343XFRKx</td>\n",
       "      <td>spotify:track:2Vc6NJ9PW9gD9q343XFRKx</td>\n",
       "      <td>https://api.spotify.com/v1/tracks/2Vc6NJ9PW9gD...</td>\n",
       "      <td>https://api.spotify.com/v1/audio-analysis/2Vc6...</td>\n",
       "      <td>124539</td>\n",
       "      <td>4</td>\n",
       "      <td>Dark Trap</td>\n",
       "      <td>Mercury: Retrograde</td>\n",
       "      <td>NaN</td>\n",
       "      <td>NaN</td>\n",
       "    </tr>\n",
       "    <tr>\n",
       "      <th>1</th>\n",
       "      <td>0.719</td>\n",
       "      <td>0.493</td>\n",
       "      <td>8</td>\n",
       "      <td>-7.230</td>\n",
       "      <td>1</td>\n",
       "      <td>0.0794</td>\n",
       "      <td>0.4010</td>\n",
       "      <td>0.000000</td>\n",
       "      <td>0.1180</td>\n",
       "      <td>0.1240</td>\n",
       "      <td>...</td>\n",
       "      <td>7pgJBLVz5VmnL7uGHmRj6p</td>\n",
       "      <td>spotify:track:7pgJBLVz5VmnL7uGHmRj6p</td>\n",
       "      <td>https://api.spotify.com/v1/tracks/7pgJBLVz5Vmn...</td>\n",
       "      <td>https://api.spotify.com/v1/audio-analysis/7pgJ...</td>\n",
       "      <td>224427</td>\n",
       "      <td>4</td>\n",
       "      <td>Dark Trap</td>\n",
       "      <td>Pathology</td>\n",
       "      <td>NaN</td>\n",
       "      <td>NaN</td>\n",
       "    </tr>\n",
       "    <tr>\n",
       "      <th>2</th>\n",
       "      <td>0.850</td>\n",
       "      <td>0.893</td>\n",
       "      <td>5</td>\n",
       "      <td>-4.783</td>\n",
       "      <td>1</td>\n",
       "      <td>0.0623</td>\n",
       "      <td>0.0138</td>\n",
       "      <td>0.000004</td>\n",
       "      <td>0.3720</td>\n",
       "      <td>0.0391</td>\n",
       "      <td>...</td>\n",
       "      <td>0vSWgAlfpye0WCGeNmuNhy</td>\n",
       "      <td>spotify:track:0vSWgAlfpye0WCGeNmuNhy</td>\n",
       "      <td>https://api.spotify.com/v1/tracks/0vSWgAlfpye0...</td>\n",
       "      <td>https://api.spotify.com/v1/audio-analysis/0vSW...</td>\n",
       "      <td>98821</td>\n",
       "      <td>4</td>\n",
       "      <td>Dark Trap</td>\n",
       "      <td>Symbiote</td>\n",
       "      <td>NaN</td>\n",
       "      <td>NaN</td>\n",
       "    </tr>\n",
       "    <tr>\n",
       "      <th>3</th>\n",
       "      <td>0.476</td>\n",
       "      <td>0.781</td>\n",
       "      <td>0</td>\n",
       "      <td>-4.710</td>\n",
       "      <td>1</td>\n",
       "      <td>0.1030</td>\n",
       "      <td>0.0237</td>\n",
       "      <td>0.000000</td>\n",
       "      <td>0.1140</td>\n",
       "      <td>0.1750</td>\n",
       "      <td>...</td>\n",
       "      <td>0VSXnJqQkwuH2ei1nOQ1nu</td>\n",
       "      <td>spotify:track:0VSXnJqQkwuH2ei1nOQ1nu</td>\n",
       "      <td>https://api.spotify.com/v1/tracks/0VSXnJqQkwuH...</td>\n",
       "      <td>https://api.spotify.com/v1/audio-analysis/0VSX...</td>\n",
       "      <td>123661</td>\n",
       "      <td>3</td>\n",
       "      <td>Dark Trap</td>\n",
       "      <td>ProductOfDrugs (Prod. The Virus and Antidote)</td>\n",
       "      <td>NaN</td>\n",
       "      <td>NaN</td>\n",
       "    </tr>\n",
       "    <tr>\n",
       "      <th>4</th>\n",
       "      <td>0.798</td>\n",
       "      <td>0.624</td>\n",
       "      <td>2</td>\n",
       "      <td>-7.668</td>\n",
       "      <td>1</td>\n",
       "      <td>0.2930</td>\n",
       "      <td>0.2170</td>\n",
       "      <td>0.000000</td>\n",
       "      <td>0.1660</td>\n",
       "      <td>0.5910</td>\n",
       "      <td>...</td>\n",
       "      <td>4jCeguq9rMTlbMmPHuO7S3</td>\n",
       "      <td>spotify:track:4jCeguq9rMTlbMmPHuO7S3</td>\n",
       "      <td>https://api.spotify.com/v1/tracks/4jCeguq9rMTl...</td>\n",
       "      <td>https://api.spotify.com/v1/audio-analysis/4jCe...</td>\n",
       "      <td>123298</td>\n",
       "      <td>4</td>\n",
       "      <td>Dark Trap</td>\n",
       "      <td>Venom</td>\n",
       "      <td>NaN</td>\n",
       "      <td>NaN</td>\n",
       "    </tr>\n",
       "  </tbody>\n",
       "</table>\n",
       "<p>5 rows × 22 columns</p>\n",
       "</div>"
      ],
      "text/plain": [
       "   danceability  energy  key  loudness  mode  speechiness  acousticness  \\\n",
       "0         0.831   0.814    2    -7.364     1       0.4200        0.0598   \n",
       "1         0.719   0.493    8    -7.230     1       0.0794        0.4010   \n",
       "2         0.850   0.893    5    -4.783     1       0.0623        0.0138   \n",
       "3         0.476   0.781    0    -4.710     1       0.1030        0.0237   \n",
       "4         0.798   0.624    2    -7.668     1       0.2930        0.2170   \n",
       "\n",
       "   instrumentalness  liveness  valence  ...                      id  \\\n",
       "0          0.013400    0.0556   0.3890  ...  2Vc6NJ9PW9gD9q343XFRKx   \n",
       "1          0.000000    0.1180   0.1240  ...  7pgJBLVz5VmnL7uGHmRj6p   \n",
       "2          0.000004    0.3720   0.0391  ...  0vSWgAlfpye0WCGeNmuNhy   \n",
       "3          0.000000    0.1140   0.1750  ...  0VSXnJqQkwuH2ei1nOQ1nu   \n",
       "4          0.000000    0.1660   0.5910  ...  4jCeguq9rMTlbMmPHuO7S3   \n",
       "\n",
       "                                    uri  \\\n",
       "0  spotify:track:2Vc6NJ9PW9gD9q343XFRKx   \n",
       "1  spotify:track:7pgJBLVz5VmnL7uGHmRj6p   \n",
       "2  spotify:track:0vSWgAlfpye0WCGeNmuNhy   \n",
       "3  spotify:track:0VSXnJqQkwuH2ei1nOQ1nu   \n",
       "4  spotify:track:4jCeguq9rMTlbMmPHuO7S3   \n",
       "\n",
       "                                          track_href  \\\n",
       "0  https://api.spotify.com/v1/tracks/2Vc6NJ9PW9gD...   \n",
       "1  https://api.spotify.com/v1/tracks/7pgJBLVz5Vmn...   \n",
       "2  https://api.spotify.com/v1/tracks/0vSWgAlfpye0...   \n",
       "3  https://api.spotify.com/v1/tracks/0VSXnJqQkwuH...   \n",
       "4  https://api.spotify.com/v1/tracks/4jCeguq9rMTl...   \n",
       "\n",
       "                                        analysis_url duration_ms  \\\n",
       "0  https://api.spotify.com/v1/audio-analysis/2Vc6...      124539   \n",
       "1  https://api.spotify.com/v1/audio-analysis/7pgJ...      224427   \n",
       "2  https://api.spotify.com/v1/audio-analysis/0vSW...       98821   \n",
       "3  https://api.spotify.com/v1/audio-analysis/0VSX...      123661   \n",
       "4  https://api.spotify.com/v1/audio-analysis/4jCe...      123298   \n",
       "\n",
       "  time_signature      genre                                      song_name  \\\n",
       "0              4  Dark Trap                            Mercury: Retrograde   \n",
       "1              4  Dark Trap                                      Pathology   \n",
       "2              4  Dark Trap                                       Symbiote   \n",
       "3              3  Dark Trap  ProductOfDrugs (Prod. The Virus and Antidote)   \n",
       "4              4  Dark Trap                                          Venom   \n",
       "\n",
       "  Unnamed: 0 title  \n",
       "0        NaN   NaN  \n",
       "1        NaN   NaN  \n",
       "2        NaN   NaN  \n",
       "3        NaN   NaN  \n",
       "4        NaN   NaN  \n",
       "\n",
       "[5 rows x 22 columns]"
      ]
     },
     "execution_count": 5,
     "metadata": {},
     "output_type": "execute_result"
    }
   ],
   "source": [
    "df.head()"
   ]
  },
  {
   "cell_type": "code",
   "execution_count": 6,
   "metadata": {},
   "outputs": [
    {
     "data": {
      "text/plain": [
       "Index(['danceability', 'energy', 'key', 'loudness', 'mode', 'speechiness',\n",
       "       'acousticness', 'instrumentalness', 'liveness', 'valence', 'tempo',\n",
       "       'type', 'id', 'uri', 'track_href', 'analysis_url', 'duration_ms',\n",
       "       'time_signature', 'genre', 'song_name', 'Unnamed: 0', 'title'],\n",
       "      dtype='object')"
      ]
     },
     "execution_count": 6,
     "metadata": {},
     "output_type": "execute_result"
    }
   ],
   "source": [
    "df.columns"
   ]
  },
  {
   "cell_type": "code",
   "execution_count": 7,
   "metadata": {},
   "outputs": [
    {
     "name": "stdout",
     "output_type": "stream",
     "text": [
      "   danceability  energy  key  loudness  mode  speechiness  acousticness  \\\n",
      "0         0.831   0.814  2.0    -7.364   1.0       0.4200        0.0598   \n",
      "1         0.719   0.493  8.0       NaN   1.0       0.0794        0.4010   \n",
      "2         0.850   0.893  5.0       NaN   1.0       0.0623           NaN   \n",
      "3         0.476   0.781  0.0    -4.710   1.0       0.1030        0.0237   \n",
      "4           NaN   0.624  2.0    -7.668   1.0       0.2930           NaN   \n",
      "\n",
      "   instrumentalness  liveness  valence  ...                      id  \\\n",
      "0          0.013400    0.0556   0.3890  ...  2Vc6NJ9PW9gD9q343XFRKx   \n",
      "1          0.000000    0.1180   0.1240  ...  7pgJBLVz5VmnL7uGHmRj6p   \n",
      "2          0.000004    0.3720   0.0391  ...  0vSWgAlfpye0WCGeNmuNhy   \n",
      "3          0.000000    0.1140   0.1750  ...  0VSXnJqQkwuH2ei1nOQ1nu   \n",
      "4          0.000000    0.1660   0.5910  ...  4jCeguq9rMTlbMmPHuO7S3   \n",
      "\n",
      "                                    uri  \\\n",
      "0  spotify:track:2Vc6NJ9PW9gD9q343XFRKx   \n",
      "1  spotify:track:7pgJBLVz5VmnL7uGHmRj6p   \n",
      "2  spotify:track:0vSWgAlfpye0WCGeNmuNhy   \n",
      "3  spotify:track:0VSXnJqQkwuH2ei1nOQ1nu   \n",
      "4  spotify:track:4jCeguq9rMTlbMmPHuO7S3   \n",
      "\n",
      "                                          track_href  \\\n",
      "0  https://api.spotify.com/v1/tracks/2Vc6NJ9PW9gD...   \n",
      "1  https://api.spotify.com/v1/tracks/7pgJBLVz5Vmn...   \n",
      "2  https://api.spotify.com/v1/tracks/0vSWgAlfpye0...   \n",
      "3  https://api.spotify.com/v1/tracks/0VSXnJqQkwuH...   \n",
      "4  https://api.spotify.com/v1/tracks/4jCeguq9rMTl...   \n",
      "\n",
      "                                        analysis_url duration_ms  \\\n",
      "0  https://api.spotify.com/v1/audio-analysis/2Vc6...      124539   \n",
      "1  https://api.spotify.com/v1/audio-analysis/7pgJ...      224427   \n",
      "2  https://api.spotify.com/v1/audio-analysis/0vSW...       98821   \n",
      "3  https://api.spotify.com/v1/audio-analysis/0VSX...      123661   \n",
      "4  https://api.spotify.com/v1/audio-analysis/4jCe...      123298   \n",
      "\n",
      "  time_signature      genre                                      song_name  \\\n",
      "0              4  Dark Trap                            Mercury: Retrograde   \n",
      "1              4  Dark Trap                                      Pathology   \n",
      "2              4  Dark Trap                                       Symbiote   \n",
      "3              3  Dark Trap  ProductOfDrugs (Prod. The Virus and Antidote)   \n",
      "4              4  Dark Trap                                          Venom   \n",
      "\n",
      "  Unnamed: 0 title  \n",
      "0        NaN   NaN  \n",
      "1        NaN   NaN  \n",
      "2        NaN   NaN  \n",
      "3        NaN   NaN  \n",
      "4        NaN   NaN  \n",
      "\n",
      "[5 rows x 22 columns]\n"
     ]
    }
   ],
   "source": [
    "import pandas as pd\n",
    "import numpy as np\n",
    "\n",
    "def introduce_nans(df, columns, percentage_range, random_seed=42):\n",
    "    \"\"\"\n",
    "    Introduce un porcentaje de NaNs en columnas específicas de un DataFrame.\n",
    "\n",
    "    Parámetros:\n",
    "        df (pd.DataFrame): El DataFrame combinado.\n",
    "        columns (list): Lista de columnas en las que se introducirán NaNs.\n",
    "        percentage_range (float): Porcentaje de NaNs a introducir (entre 0 y 1).\n",
    "        \n",
    "    Retorna:\n",
    "        pd.DataFrame: El DataFrame con NaNs introducidos.\n",
    "    \"\"\"\n",
    "    rnd = np.random.RandomState(random_seed)\n",
    "\n",
    "    # Crear una copia del DataFrame para no modificar el original\n",
    "    df_with_nans = df.copy()\n",
    "    \n",
    "    # Iterar sobre las columnas y agregar NaNs\n",
    "    for column in columns:\n",
    "        # Verificar que el porcentaje esté entre 0 y 1\n",
    "        percentage = rnd.rand()*percentage_range\n",
    "        \n",
    "        if column in df_with_nans.columns:\n",
    "            # Determinar el número de valores a convertir en NaN\n",
    "            n_rows = len(df_with_nans)\n",
    "            n_nans = int(n_rows * percentage)\n",
    "            \n",
    "            # Seleccionar índices aleatorios para asignar NaNs\n",
    "            nan_indices = rnd.choice(df_with_nans.index, n_nans, replace=False)\n",
    "            df_with_nans.loc[nan_indices, column] = np.nan\n",
    "        else:\n",
    "            print(f\"La columna '{column}' no existe en el DataFrame.\")\n",
    "    \n",
    "    return df_with_nans\n",
    "\n",
    "# Lista de columnas objetivo\n",
    "columns_target = ['danceability', 'energy', 'key', 'loudness', 'mode', 'speechiness',\n",
    "       'acousticness', 'instrumentalness', 'liveness', 'valence', 'tempo']\n",
    "\n",
    "# Uso de la función (ejemplo con 20% de NaNs)\n",
    "df_with_nans = introduce_nans(df, columns_target, 0.2)\n",
    "\n",
    "# Mostrar las primeras filas del DataFrame modificado\n",
    "print(df_with_nans.head())\n"
   ]
  },
  {
   "cell_type": "code",
   "execution_count": 8,
   "metadata": {},
   "outputs": [
    {
     "name": "stdout",
     "output_type": "stream",
     "text": [
      "<class 'pandas.core.frame.DataFrame'>\n",
      "RangeIndex: 42305 entries, 0 to 42304\n",
      "Data columns (total 22 columns):\n",
      " #   Column            Non-Null Count  Dtype  \n",
      "---  ------            --------------  -----  \n",
      " 0   danceability      39137 non-null  float64\n",
      " 1   energy            37063 non-null  float64\n",
      " 2   key               40282 non-null  float64\n",
      " 3   loudness          40375 non-null  float64\n",
      " 4   mode              41646 non-null  float64\n",
      " 5   speechiness       36042 non-null  float64\n",
      " 6   acousticness      34196 non-null  float64\n",
      " 7   instrumentalness  37475 non-null  float64\n",
      " 8   liveness          39957 non-null  float64\n",
      " 9   valence           36339 non-null  float64\n",
      " 10  tempo             40195 non-null  float64\n",
      " 11  type              42305 non-null  object \n",
      " 12  id                42305 non-null  object \n",
      " 13  uri               42305 non-null  object \n",
      " 14  track_href        42305 non-null  object \n",
      " 15  analysis_url      42305 non-null  object \n",
      " 16  duration_ms       42305 non-null  int64  \n",
      " 17  time_signature    42305 non-null  int64  \n",
      " 18  genre             42305 non-null  object \n",
      " 19  song_name         21519 non-null  object \n",
      " 20  Unnamed: 0        20780 non-null  float64\n",
      " 21  title             20780 non-null  object \n",
      "dtypes: float64(12), int64(2), object(8)\n",
      "memory usage: 7.1+ MB\n"
     ]
    }
   ],
   "source": [
    "df_with_nans.info()"
   ]
  },
  {
   "cell_type": "code",
   "execution_count": 12,
   "metadata": {},
   "outputs": [
    {
     "data": {
      "text/plain": [
       "<Axes: xlabel='genre'>"
      ]
     },
     "execution_count": 12,
     "metadata": {},
     "output_type": "execute_result"
    },
    {
     "data": {
      "image/png": "[encoded data removed]",
      "text/plain": [
       "<Figure size 640x480 with 1 Axes>"
      ]
     },
     "metadata": {},
     "output_type": "display_data"
    }
   ],
   "source": [
    "df_with_nans.genre.value_counts().plot(kind=\"bar\")"
   ]
  },
  {
   "cell_type": "code",
   "execution_count": 58,
   "metadata": {},
   "outputs": [
    {
     "name": "stdout",
     "output_type": "stream",
     "text": [
      "                      track         artist  \\\n",
      "1            On The Hotline   Pretty Ricky   \n",
      "2        Clouds Of Dementia     Candlemass   \n",
      "3  Heavy Metal, Raise Hell!  Zwartketterij   \n",
      "5           Dantzig Station   State Of Art   \n",
      "6                  Divorced    Blacklisted   \n",
      "\n",
      "                                    uri  danceability  energy   key  loudness  \\\n",
      "1  spotify:track:1zyqZONW985Cs4osz9wlsu           NaN   0.854  10.0       NaN   \n",
      "2  spotify:track:6cHZf7RbxXCKwEkgAZT4mY         0.162   0.836   9.0       NaN   \n",
      "3  spotify:track:2IjBPp2vMeX7LggzRN3iSX         0.188   0.994   4.0    -3.745   \n",
      "5  spotify:track:5Z3nrC0JbJmXaOGiXTuNFk         0.726   0.837  11.0    -7.223   \n",
      "6  spotify:track:0iAdSLiQBIizTAiLUP7p5E         0.365   0.922   1.0    -2.644   \n",
      "\n",
      "   mode  speechiness  acousticness  instrumentalness  liveness  valence  \\\n",
      "1   0.0       0.1830      0.018500           0.00000     0.148    0.688   \n",
      "2   1.0       0.0473      0.000111           0.00457     0.174    0.300   \n",
      "3   1.0       0.1660      0.000007               NaN     0.192    0.333   \n",
      "5   0.0       0.0965      0.373000           0.26800     0.136    0.969   \n",
      "6   1.0       0.0710      0.002850           0.00000     0.321      NaN   \n",
      "\n",
      "     tempo  duration_ms  time_signature  chorus_hit  sections  target decade  \n",
      "1   92.988     242587.0             4.0    41.51106      10.0       1    00s  \n",
      "2   86.964     338893.0             4.0    65.32887       NaN       0    00s  \n",
      "3  148.440     255667.0             4.0    58.59528       9.0       0    00s  \n",
      "5  135.347     192720.0             4.0    28.29051      10.0       0    00s  \n",
      "6      NaN      89427.0             4.0    45.77202       4.0       0    00s  \n"
     ]
    }
   ],
   "source": [
    "# import pandas as pd\n",
    "# import numpy as np\n",
    "\n",
    "# def remove_target_ones_stratified(df, target_column, decade_column, percentage, random_seed=42):\n",
    "#     \"\"\"\n",
    "#     Elimina filas aleatorias con el target igual a 1 de forma estratificada por décadas.\n",
    "\n",
    "#     Parámetros:\n",
    "#         df (pd.DataFrame): El DataFrame original.\n",
    "#         target_column (str): El nombre de la columna target donde se busca el valor 1.\n",
    "#         decade_column (str): El nombre de la columna que contiene las décadas.\n",
    "#         percentage (float): El porcentaje de filas con target 1 a eliminar (entre 0 y 1).\n",
    "\n",
    "#     Retorna:\n",
    "#         pd.DataFrame: El DataFrame con filas eliminadas.\n",
    "#     \"\"\"\n",
    "#     rnd = np.random.RandomState(random_seed)\n",
    "#     # Verificar que el porcentaje esté entre 0 y 1\n",
    "#     if not (0 <= percentage <= 1):\n",
    "#         raise ValueError(\"El porcentaje debe estar entre 0 y 1.\")\n",
    "\n",
    "#     # Crear una copia del DataFrame para no modificar el original\n",
    "#     df_modified = df.copy()\n",
    "\n",
    "#     # Filtrar filas donde el target sea 1\n",
    "#     target_ones = df_modified[df_modified[target_column] == 1]\n",
    "\n",
    "#     # Agrupar por décadas y eliminar filas aleatorias de forma estratificada\n",
    "#     rows_to_remove = []\n",
    "#     for decade, group in target_ones.groupby(decade_column):\n",
    "#         # Calcular el número de filas a eliminar\n",
    "#         n_to_remove = int(len(group) * percentage)\n",
    "        \n",
    "#         # Seleccionar índices aleatorios para eliminar\n",
    "#         rows_to_remove.extend(rnd.choice(group.index, n_to_remove, replace=False))\n",
    "\n",
    "#     # Eliminar las filas seleccionadas\n",
    "#     df_modified.drop(index=rows_to_remove, inplace=True)\n",
    "    \n",
    "#     return df_modified\n",
    "\n",
    "# # Ejemplo de uso:\n",
    "# # combined_df es el DataFrame combinado, 'target' es el nombre del target y 'decade' es la columna de décadas.\n",
    "# # Eliminar el 30% de las filas donde target = 1\n",
    "# combined_df_balanced = remove_target_ones_stratified(\n",
    "#     df_with_nans, target_column='target', decade_column='decade', percentage=0.5\n",
    "# )\n",
    "\n",
    "# # Mostrar las primeras filas del DataFrame resultante\n",
    "# print(combined_df_balanced.head())\n"
   ]
  },
  {
   "cell_type": "code",
   "execution_count": 13,
   "metadata": {},
   "outputs": [],
   "source": [
    "# combined_df_balanced.target.value_counts().plot(kind=\"bar\")"
   ]
  },
  {
   "cell_type": "code",
   "execution_count": 14,
   "metadata": {},
   "outputs": [],
   "source": [
    "# combined_df.decade.value_counts().plot(kind=\"bar\")"
   ]
  },
  {
   "cell_type": "code",
   "execution_count": 15,
   "metadata": {},
   "outputs": [],
   "source": [
    "# combined_df_balanced.decade.value_counts().plot(kind=\"bar\")"
   ]
  },
  {
   "cell_type": "code",
   "execution_count": 16,
   "metadata": {},
   "outputs": [],
   "source": [
    "from sklearn.ensemble import RandomForestClassifier\n"
   ]
  },
  {
   "cell_type": "code",
   "execution_count": 17,
   "metadata": {},
   "outputs": [],
   "source": [
    "from sklearn.model_selection import cross_val_score"
   ]
  },
  {
   "cell_type": "code",
   "execution_count": 18,
   "metadata": {},
   "outputs": [],
   "source": [
    "data = df_with_nans.fillna(0)"
   ]
  },
  {
   "cell_type": "code",
   "execution_count": 29,
   "metadata": {},
   "outputs": [
    {
     "data": {
      "text/plain": [
       "{'Dark Trap': 0,\n",
       " 'Underground Rap': 1,\n",
       " 'Trap Metal': 2,\n",
       " 'Emo': 3,\n",
       " 'Rap': 4,\n",
       " 'RnB': 5,\n",
       " 'Pop': 6,\n",
       " 'Hiphop': 7,\n",
       " 'techhouse': 8,\n",
       " 'techno': 9,\n",
       " 'trance': 10,\n",
       " 'psytrance': 11,\n",
       " 'trap': 12,\n",
       " 'dnb': 13,\n",
       " 'hardstyle': 14}"
      ]
     },
     "execution_count": 29,
     "metadata": {},
     "output_type": "execute_result"
    }
   ],
   "source": [
    "map_genres = dict(zip(df_with_nans.genre.unique(), range(len(df_with_nans.genre))))\n",
    "map_genres"
   ]
  },
  {
   "cell_type": "code",
   "execution_count": 30,
   "metadata": {},
   "outputs": [],
   "source": [
    "data = data.loc[:, data.dtypes!=object]\n",
    "data[\"target\"] = df_with_nans.genre.map(map_genres)"
   ]
  },
  {
   "cell_type": "code",
   "execution_count": 32,
   "metadata": {},
   "outputs": [
    {
     "data": {
      "text/plain": [
       "target\n",
       "1     5875\n",
       "0     4578\n",
       "7     3028\n",
       "10    2999\n",
       "12    2987\n",
       "8     2975\n",
       "13    2966\n",
       "11    2961\n",
       "9     2956\n",
       "14    2936\n",
       "5     2099\n",
       "2     1956\n",
       "4     1848\n",
       "3     1680\n",
       "6      461\n",
       "Name: count, dtype: int64"
      ]
     },
     "execution_count": 32,
     "metadata": {},
     "output_type": "execute_result"
    }
   ],
   "source": [
    "data.target.value_counts()"
   ]
  },
  {
   "cell_type": "code",
   "execution_count": 33,
   "metadata": {},
   "outputs": [
    {
     "data": {
      "text/plain": [
       "array([0.54478492, 0.60517688, 0.60137571, 0.64947122, 0.58535089])"
      ]
     },
     "execution_count": 33,
     "metadata": {},
     "output_type": "execute_result"
    }
   ],
   "source": [
    "rf = RandomForestClassifier(n_estimators=200, max_depth=5, class_weight=\"balanced\")\n",
    "cross_val_score(rf, data.drop(\"target\", axis=1), data.target, cv=5, n_jobs=-1, scoring=\"f1_macro\")"
   ]
  },
  {
   "cell_type": "code",
   "execution_count": 36,
   "metadata": {},
   "outputs": [
    {
     "name": "stdout",
     "output_type": "stream",
     "text": [
      "Archivos generados exitosamente:\n",
      " - train.csv: Datos de entrenamiento (80%).\n",
      " - solution.csv: Solución con el 20% restante (incluye target).\n",
      " - test.csv: Datos de test sin la columna target (20%).\n"
     ]
    }
   ],
   "source": [
    "import pandas as pd\n",
    "from sklearn.model_selection import train_test_split\n",
    "\n",
    "def prepare_and_split_for_kaggle(df, target_column, train_size=0.8, random_seed=42):\n",
    "    \"\"\"\n",
    "    Prepara el dataset añadiendo una columna 'Id' única, y lo divide en train, solution y test.\n",
    "    \n",
    "    Parámetros:\n",
    "    - df: DataFrame original.\n",
    "    - target_column: Nombre de la columna objetivo (target).\n",
    "    - train_size: Proporción de datos para train (default = 0.8).\n",
    "    - random_seed: Semilla para la generación aleatoria (default = 42).\n",
    "    - output_prefix: Prefijo para los archivos de salida.\n",
    "    \"\"\"\n",
    "    # Añadir una columna 'Id' para identificar las filas\n",
    "    df = df.reset_index(drop=True)\n",
    "    df['Id'] = df.index  # Crear la columna 'Id' a partir del índice\n",
    "    \n",
    "    # Dividir el dataset en train (80%) y el resto (20%)\n",
    "    train_df, rest_df = train_test_split(df, train_size=train_size, random_state=random_seed, shuffle=True)\n",
    "    \n",
    "    # Crear solution y test a partir del 20% restante\n",
    "    solution_df = rest_df.copy()\n",
    "    test_df = rest_df.drop(columns=[target_column])  # Eliminar la columna target del test\n",
    "\n",
    "    solution_df = solution_df[[\"Id\", target_column]]\n",
    "    solution_df[\"Usage\"] = [\"Public\"]*(len(solution_df)-1000)+[\"Private\"]*1000\n",
    "    \n",
    "    # Guardar los archivos CSV\n",
    "    train_df.to_csv(f\"train.csv\", index=False)\n",
    "    solution_df.to_csv(f\"solution.csv\", index=False)\n",
    "    test_df.to_csv(f\"test.csv\", index=False)\n",
    "    \n",
    "    print(\"Archivos generados exitosamente:\")\n",
    "    print(f\" - train.csv: Datos de entrenamiento (80%).\")\n",
    "    print(f\" - solution.csv: Solución con el 20% restante (incluye target).\")\n",
    "    print(f\" - test.csv: Datos de test sin la columna target (20%).\")\n",
    "    \n",
    "    return train_df, solution_df, test_df\n",
    "\n",
    "# Ejemplo de uso\n",
    "# combined_df: el DataFrame resultante previamente\n",
    "# target_column: sustituir por el nombre de la columna objetivo, ej: 'popularity'\n",
    "train_df, solution_df, test_df = prepare_and_split_for_kaggle(df, target_column=\"genre\", random_seed=42)\n"
   ]
  },
  {
   "cell_type": "code",
   "execution_count": 40,
   "metadata": {},
   "outputs": [
    {
     "data": {
      "text/plain": [
       "genre\n",
       "Underground Rap    5875\n",
       "Dark Trap          4578\n",
       "Hiphop             3028\n",
       "trance             2999\n",
       "trap               2987\n",
       "techhouse          2975\n",
       "dnb                2966\n",
       "psytrance          2961\n",
       "techno             2956\n",
       "hardstyle          2936\n",
       "RnB                2099\n",
       "Trap Metal         1956\n",
       "Rap                1848\n",
       "Emo                1680\n",
       "Pop                 461\n",
       "Name: count, dtype: int64"
      ]
     },
     "execution_count": 40,
     "metadata": {},
     "output_type": "execute_result"
    }
   ],
   "source": [
    "df.genre.value_counts()"
   ]
  },
  {
   "cell_type": "code",
   "execution_count": 41,
   "metadata": {},
   "outputs": [
    {
     "data": {
      "text/plain": [
       "genre\n",
       "Underground Rap    1192\n",
       "Dark Trap           970\n",
       "Hiphop              621\n",
       "hardstyle           619\n",
       "dnb                 599\n",
       "psytrance           598\n",
       "techno              590\n",
       "trap                582\n",
       "techhouse           568\n",
       "trance              562\n",
       "RnB                 396\n",
       "Trap Metal          384\n",
       "Rap                 341\n",
       "Emo                 341\n",
       "Pop                  98\n",
       "Name: count, dtype: int64"
      ]
     },
     "execution_count": 41,
     "metadata": {},
     "output_type": "execute_result"
    }
   ],
   "source": [
    "solution_df.genre.value_counts()"
   ]
  },
  {
   "cell_type": "code",
   "execution_count": 42,
   "metadata": {},
   "outputs": [
    {
     "data": {
      "text/plain": [
       "array(['Underground Rap', 'techhouse', 'Trap Metal', 'techno', 'Hiphop',\n",
       "       'Pop', 'RnB', 'trance', 'psytrance', 'trap', 'Rap', 'Dark Trap',\n",
       "       'dnb', 'Emo', 'hardstyle'], dtype=object)"
      ]
     },
     "execution_count": 42,
     "metadata": {},
     "output_type": "execute_result"
    }
   ],
   "source": [
    "solution_df.genre.unique()"
   ]
  }
 ],
 "metadata": {
  "kernelspec": {
   "display_name": "data_analysis_env",
   "language": "python",
   "name": "python3"
  },
  "language_info": {
   "codemirror_mode": {
    "name": "ipython",
    "version": 3
   },
   "file_extension": ".py",
   "mimetype": "text/x-python",
   "name": "python",
   "nbconvert_exporter": "python",
   "pygments_lexer": "ipython3",
   "version": "3.10.15"
  }
 },
 "nbformat": 4,
 "nbformat_minor": 2
}
